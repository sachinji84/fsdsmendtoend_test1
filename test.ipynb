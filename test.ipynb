{
 "cells": [
  {
   "cell_type": "code",
   "execution_count": 1,
   "metadata": {},
   "outputs": [],
   "source": [
    "import os\n",
    "from pathlib import Path"
   ]
  },
  {
   "cell_type": "code",
   "execution_count": 2,
   "metadata": {},
   "outputs": [
    {
     "data": {
      "text/plain": [
       "'DimondPricePrediction'"
      ]
     },
     "execution_count": 2,
     "metadata": {},
     "output_type": "execute_result"
    }
   ],
   "source": [
    "package_name = \"DimondPricePrediction\"\n",
    "package_name"
   ]
  },
  {
   "cell_type": "code",
   "execution_count": 3,
   "metadata": {},
   "outputs": [
    {
     "data": {
      "text/plain": [
       "['github/workflows/.gitkeep',\n",
       " 'src/DimondPricePrediction/__init__.py',\n",
       " 'src/DimondPricePrediction/components/__init__.py',\n",
       " 'src/DimondPricePrediction/components/data_ingestion.py',\n",
       " 'src/DimondPricePrediction/components/data_transformation.py',\n",
       " 'src/DimondPricePrediction/components/model_trainer.py',\n",
       " 'src/DimondPricePrediction/pipelines/__init__.py',\n",
       " 'src/DimondPricePrediction/pipelines/training_pipeline.py',\n",
       " 'src/DimondPricePrediction/pipelines/prediction_pipeline.py',\n",
       " 'src/DimondPricePrediction/logger.py',\n",
       " 'src/DimondPricePrediction/exception.py',\n",
       " 'src/DimondPricePrediction/utils/__init__.py',\n",
       " 'notebooks/research.ipynb',\n",
       " 'notebooks/data/.gitkeep',\n",
       " 'requirements.txt',\n",
       " 'setup.py',\n",
       " 'init_setup.sh']"
      ]
     },
     "execution_count": 3,
     "metadata": {},
     "output_type": "execute_result"
    }
   ],
   "source": [
    "list_of_files = [\n",
    "    \"github/workflows/.gitkeep\",\n",
    "    f\"src/{package_name}/__init__.py\",\n",
    "    f\"src/{package_name}/components/__init__.py\",\n",
    "    f\"src/{package_name}/components/data_ingestion.py\",\n",
    "    f\"src/{package_name}/components/data_transformation.py\",\n",
    "    f\"src/{package_name}/components/model_trainer.py\",\n",
    "    f\"src/{package_name}/pipelines/__init__.py\",\n",
    "    f\"src/{package_name}/pipelines/training_pipeline.py\",\n",
    "    f\"src/{package_name}/pipelines/prediction_pipeline.py\",\n",
    "    f\"src/{package_name}/logger.py\",\n",
    "    f\"src/{package_name}/exception.py\",\n",
    "    f\"src/{package_name}/utils/__init__.py\",\n",
    "    \"notebooks/research.ipynb\",\n",
    "    \"notebooks/data/.gitkeep\",\n",
    "    \"requirements.txt\",\n",
    "    \"setup.py\",\n",
    "    \"init_setup.sh\",\n",
    "]\n",
    "list_of_files"
   ]
  },
  {
   "cell_type": "code",
   "execution_count": 6,
   "metadata": {},
   "outputs": [
    {
     "name": "stdout",
     "output_type": "stream",
     "text": [
      "github\\workflows\\.gitkeep\n",
      "  github\\workflows .gitkeep\n",
      "src\\DimondPricePrediction\\__init__.py\n",
      "  src\\DimondPricePrediction __init__.py\n",
      "src\\DimondPricePrediction\\components\\__init__.py\n",
      "  src\\DimondPricePrediction\\components __init__.py\n",
      "src\\DimondPricePrediction\\components\\data_ingestion.py\n",
      "  src\\DimondPricePrediction\\components data_ingestion.py\n",
      "src\\DimondPricePrediction\\components\\data_transformation.py\n",
      "  src\\DimondPricePrediction\\components data_transformation.py\n",
      "src\\DimondPricePrediction\\components\\model_trainer.py\n",
      "  src\\DimondPricePrediction\\components model_trainer.py\n",
      "src\\DimondPricePrediction\\pipelines\\__init__.py\n",
      "  src\\DimondPricePrediction\\pipelines __init__.py\n",
      "src\\DimondPricePrediction\\pipelines\\training_pipeline.py\n",
      "  src\\DimondPricePrediction\\pipelines training_pipeline.py\n",
      "src\\DimondPricePrediction\\pipelines\\prediction_pipeline.py\n",
      "  src\\DimondPricePrediction\\pipelines prediction_pipeline.py\n",
      "src\\DimondPricePrediction\\logger.py\n",
      "  src\\DimondPricePrediction logger.py\n",
      "src\\DimondPricePrediction\\exception.py\n",
      "  src\\DimondPricePrediction exception.py\n",
      "src\\DimondPricePrediction\\utils\\__init__.py\n",
      "  src\\DimondPricePrediction\\utils __init__.py\n",
      "notebooks\\research.ipynb\n",
      "  notebooks research.ipynb\n",
      "notebooks\\data\\.gitkeep\n",
      "  notebooks\\data .gitkeep\n",
      "requirements.txt\n",
      "   requirements.txt\n",
      "setup.py\n",
      "   setup.py\n",
      "init_setup.sh\n",
      "   init_setup.sh\n"
     ]
    }
   ],
   "source": [
    "for filepath in list_of_files:\n",
    "    filepath = Path(filepath)\n",
    "    print(filepath)\n",
    "    filedir, filename = os.path.split(filepath)\n",
    "    print(\" \", filedir,filename)\n",
    "\n",
    "    \"\"\" how exist_ok works:if \"directory\" already exists, \n",
    "    os.makedirs() will not raise an error, and it will do nothing. \n",
    "    If \"my_directory\" doesn't exist, it will create the directory.\n",
    "    \"\"\"\n",
    "    # if filedir != \"\":\n",
    "    #     os.makedirs(filedir, exist_ok=True)\n",
    "\n",
    "    # if (not os.path.exists(filepath)) or (os.path.getsize(filepath) == 0):\n",
    "    #     with open(filepath, \"w\") as f:\n",
    "    #         pass\n",
    "    # else:\n",
    "    #     print(\"file already exists\")"
   ]
  },
  {
   "cell_type": "code",
   "execution_count": null,
   "metadata": {},
   "outputs": [],
   "source": []
  }
 ],
 "metadata": {
  "kernelspec": {
   "display_name": "Python 3",
   "language": "python",
   "name": "python3"
  },
  "language_info": {
   "codemirror_mode": {
    "name": "ipython",
    "version": 3
   },
   "file_extension": ".py",
   "mimetype": "text/x-python",
   "name": "python",
   "nbconvert_exporter": "python",
   "pygments_lexer": "ipython3",
   "version": "3.10.4"
  }
 },
 "nbformat": 4,
 "nbformat_minor": 2
}
